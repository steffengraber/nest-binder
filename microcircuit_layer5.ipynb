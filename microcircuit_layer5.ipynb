{
 "cells": [
  {
   "cell_type": "markdown",
   "metadata": {},
   "source": [
    "# Layer 5 of the microcircuit model"
   ]
  },
  {
   "cell_type": "markdown",
   "metadata": {},
   "source": [
    "This example simulates the excitatory and inhibitory neuron populations of layer 5 of the cortical microcircuit model by Potjans & Diesmann (2014):\n",
    "\n",
    "[1] Potjans, T. C., & Diesmann, M. (2014). The cell-type specific cortical microcircuit: relating structure and activity in a full-scale spiking network model. Cerebral Cortex 24(3):785-806\n",
    "\n",
    "Contact: Johanna Senk (j.senk@fz-juelich.de)"
   ]
  },
  {
   "cell_type": "markdown",
   "metadata": {},
   "source": [
    "First, import NEST and all necessary modules for simulation, analysis and plotting."
   ]
  },
  {
   "cell_type": "code",
   "execution_count": null,
   "metadata": {},
   "outputs": [],
   "source": [
    "%pylab inline\n",
    "import nest\n",
    "import numpy as np\n",
    "import nest.raster_plot"
   ]
  },
  {
   "cell_type": "markdown",
   "metadata": {},
   "source": [
    "## Parameters"
   ]
  },
  {
   "cell_type": "markdown",
   "metadata": {},
   "source": [
    "The following parameters are extracted from or computed based on Table 5 of Ref. [1]."
   ]
  },
  {
   "cell_type": "code",
   "execution_count": null,
   "metadata": {},
   "outputs": [],
   "source": [
    "# simulation parameters\n",
    "T = 1000.                  # simulation time (ms)\n",
    "dt = 0.1                   # simulation resolution (ms)\n",
    "\n",
    "# network parameters\n",
    "N_L5E = 4850               # number of neurons in L5E\n",
    "N_L5I = 1065               # number of neurons in L5I\n",
    "    \n",
    "Nsyn_L5E_L5E = 2038173     # number of synapses with presynaptic neuron (pre) in L5E and postsynaptic neuron (post) in L5E \n",
    "Nsyn_L5E_L5I = 319602      # number of synapses with pre in L5E and post in L5I\n",
    "Nsyn_L5I_L5I = 430775      # number of synapses with pre in L5I and post in L5I\n",
    "Nsyn_L5I_L5E = 2411184     # number of synapses with pre in L5I and post in L5E\n",
    "\n",
    "K_L5E_ext = 2000           # indegree of excitatory neurons from external poisson drive\n",
    "K_L5I_ext = 1900           # indegree of inhibitory neurons from external poisson drive\n",
    "\n",
    "# neuron parameters\n",
    "neuron_params = {\n",
    "    'C_m'       : 250.,    # membrane capacity (pF)\n",
    "    'I_e'       : 0.0,     # external input current (pA)\n",
    "    'tau_m'     : 10.0,    # membrane time constant (ms)\n",
    "    't_ref'     : 2.0,     # absolute refractory period (ms)\n",
    "    'tau_syn_ex': 0.5,     # excitatory postsynaptic current time constant (ms)\n",
    "    'tau_syn_in': 0.5,     # inhibitory postsynaptic current time constant (ms)\n",
    "    'V_reset'   : -65.0,   # reset potential (mV)\n",
    "    'E_L'       : -65.0,   # resting potential (mV)\n",
    "    'V_th'      : -50.0}   # spike threshold (mV)\n",
    "\n",
    "# synapse parameters\n",
    "w = 87.8                   # mean excitatory weight (pA)\n",
    "sigma_w = 8.8              # standard deviation of excitatory weight (pA)\n",
    "g = -4.                    # relative inhibitory weight \n",
    "\n",
    "de = 1.5                   # mean spike transmission delay for excitatory presynaptic neurons (ms)\n",
    "sigma_de = 0.75            # standard deviation \n",
    "di = 0.8                   # mean spike transmission delay for inhibitory presynaptic neurons (ms)\n",
    "sigma_di = 0.4             # standard deviation\n",
    " \n",
    "# input parameters\n",
    "bg_rate = 8.               # external Poisson rate (spikes/s)\n",
    "perturbation = False"
   ]
  },
  {
   "cell_type": "markdown",
   "metadata": {},
   "source": [
    "# 1) Create and connect neurons"
   ]
  },
  {
   "cell_type": "markdown",
   "metadata": {},
   "source": [
    "Reset the simulation kernel for avoiding interferences with previous NEST simulations."
   ]
  },
  {
   "cell_type": "code",
   "execution_count": null,
   "metadata": {},
   "outputs": [],
   "source": [
    "nest.ResetKernel()"
   ]
  },
  {
   "cell_type": "code",
   "execution_count": null,
   "metadata": {},
   "outputs": [],
   "source": [
    "nest.SetKernelStatus({'resolution': dt})      # set simulation resolution"
   ]
  },
  {
   "cell_type": "markdown",
   "metadata": {},
   "source": [
    "Create the excitatory and inhibitory neuron populations with neurons of type 'iaf_psc_exp', the correct population sizes, and the given neuron parameters.\n",
    "The neuron parameters are set in two alternative ways."
   ]
  },
  {
   "cell_type": "code",
   "execution_count": null,
   "metadata": {},
   "outputs": [],
   "source": [
    "pop_L5E = nest.Create('iaf_psc_exp', N_L5E, params=neuron_params)\n",
    "\n",
    "pop_L5I = nest.Create('iaf_psc_exp', N_L5I)\n",
    "pop_L5I.set(neuron_params)"
   ]
  },
  {
   "cell_type": "markdown",
   "metadata": {},
   "source": [
    "The recurrent connections are now established. Weights and delays are drawn from normal distributions.\n",
    "We begin with the excitatory connections (from L5E)."
   ]
  },
  {
   "cell_type": "code",
   "execution_count": null,
   "metadata": {},
   "outputs": [],
   "source": [
    "syn_dict_E = {\n",
    "    'synapse_model': 'static_synapse',\n",
    "    'weight': nest.math.redraw(\n",
    "        nest.random.normal(\n",
    "            mean=w,\n",
    "            std=sigma_w),\n",
    "        min=0.,\n",
    "        max=np.Inf),\n",
    "    'delay': nest.math.redraw(\n",
    "        nest.random.normal(\n",
    "            mean=de,\n",
    "            std=sigma_de),\n",
    "        min=dt,\n",
    "        max=np.Inf)}\n",
    "\n",
    "# connections to L5E\n",
    "# specifying the connection parameters\n",
    "conn_dict_EE = {'rule': 'fixed_total_number', 'N': Nsyn_L5E_L5E}\n",
    "nest.Connect(pop_L5E, pop_L5E, conn_dict_EE, syn_dict_E)\n",
    "\n",
    "# connections to L5I\n",
    "conn_dict_EI = {'rule': 'fixed_total_number', 'N': Nsyn_L5E_L5I}\n",
    "nest.Connect(pop_L5E, pop_L5I, conn_dict_EI, syn_dict_E)"
   ]
  },
  {
   "cell_type": "markdown",
   "metadata": {},
   "source": [
    "Next, establish the inhibitory connections (from L5I)."
   ]
  },
  {
   "cell_type": "code",
   "execution_count": null,
   "metadata": {},
   "outputs": [],
   "source": [
    "syn_dict_I = {\n",
    "    'synapse_model': 'static_synapse',\n",
    "    'weight': nest.math.redraw(\n",
    "        nest.random.normal(\n",
    "            mean=g*w,\n",
    "            std=np.abs(g*sigma_w)),\n",
    "        min=np.NINF,\n",
    "        max=0.),\n",
    "    'delay': nest.math.redraw(\n",
    "        nest.random.normal(\n",
    "            mean=di,\n",
    "            std=sigma_di),\n",
    "        min=dt,\n",
    "        max=np.Inf)}\n",
    "\n",
    "# connections to L5E\n",
    "# specifying the connection parameters\n",
    "conn_dict_IE = {'rule': 'fixed_total_number', 'N': Nsyn_L5I_L5E}\n",
    "nest.Connect(pop_L5I, pop_L5E, conn_dict_IE, syn_dict_I)\n",
    "\n",
    "# connections to L5I\n",
    "conn_dict_II = {'rule': 'fixed_total_number', 'N': Nsyn_L5I_L5I}\n",
    "nest.Connect(pop_L5I, pop_L5I, conn_dict_II, syn_dict_I)"
   ]
  },
  {
   "cell_type": "markdown",
   "metadata": {},
   "source": [
    "# 2) Create and connect devices"
   ]
  },
  {
   "cell_type": "markdown",
   "metadata": {},
   "source": [
    "Poisson generators simulate neuron firing with the statistics of Poisson processes. Here, they emulate external excitatory input to the network.\n",
    "\n",
    "Create two Poisson generators and connect them to the respective populations.\n",
    "The given external rate 'bg_rate' corresponds to the rate communicated by one synapse."
   ]
  },
  {
   "cell_type": "code",
   "execution_count": null,
   "metadata": {},
   "outputs": [],
   "source": [
    "# connections to L5E\n",
    "poisson_generator_L5E = nest.Create('poisson_generator', params={'rate': bg_rate * K_L5E_ext})\n",
    "nest.Connect(poisson_generator_L5E, pop_L5E, 'all_to_all', {'weight': w, 'delay': de})\n",
    "\n",
    "# connections to L5I\n",
    "poisson_generator_L5I = nest.Create('poisson_generator', params={'rate': bg_rate * K_L5I_ext})\n",
    "nest.Connect(poisson_generator_L5I, pop_L5I, 'all_to_all', {'weight': w, 'delay': de})"
   ]
  },
  {
   "cell_type": "markdown",
   "metadata": {},
   "source": [
    "Set up and connect two spike detectors, one for each population."
   ]
  },
  {
   "cell_type": "code",
   "execution_count": null,
   "metadata": {},
   "outputs": [],
   "source": [
    "sd_L5E = nest.Create('spike_detector')\n",
    "nest.Connect(pop_L5E, sd_L5E, 'all_to_all')\n",
    "\n",
    "sd_L5I = nest.Create('spike_detector')\n",
    "nest.Connect(pop_L5I, sd_L5I, 'all_to_all')"
   ]
  },
  {
   "cell_type": "markdown",
   "metadata": {},
   "source": [
    "# 4*) Perturbation"
   ]
  },
  {
   "cell_type": "markdown",
   "metadata": {},
   "source": [
    "If 'perturbation=True' in the section with the parameter definitions above, the network shall experience a perturbation for a certain time interval during the simulation. In our case, the perturbation consists of an additional Poisson generator which connects to 'N_pert' excitatory parrot neurons connecting to L5E. Parrot neurons just repeat incoming spikes and, hence, they can be used to generate correlated input."
   ]
  },
  {
   "cell_type": "code",
   "execution_count": null,
   "metadata": {},
   "outputs": [],
   "source": [
    "if perturbation == True:\n",
    "    \n",
    "    # parameters\n",
    "    N_pert = 1000\n",
    "    Nsyn_L5E_pert = 500000\n",
    "    start = 100.\n",
    "    stop = 300.\n",
    "    pert_rate = 8.\n",
    "    \n",
    "    poisson_generator_stimulus = nest.Create('poisson_generator',\n",
    "                                             params={'rate': pert_rate,\n",
    "                                                     'start': start,\n",
    "                                                     'stop': stop})\n",
    "    parrot_neurons = nest.Create('parrot_neuron', N_pert)\n",
    "    nest.Connect(poisson_generator_stimulus, parrot_neurons, 'all_to_all')\n",
    "    \n",
    "    conn_dict = {'rule': 'fixed_total_number', 'N': Nsyn_L5E_pert}\n",
    "    nest.Connect(parrot_neurons, pop_L5E, conn_dict, syn_dict_E) \n",
    "    "
   ]
  },
  {
   "cell_type": "markdown",
   "metadata": {},
   "source": [
    "# 3) Run simulation and analysis"
   ]
  },
  {
   "cell_type": "markdown",
   "metadata": {},
   "source": [
    "Run the simulation!"
   ]
  },
  {
   "cell_type": "code",
   "execution_count": null,
   "metadata": {},
   "outputs": [],
   "source": [
    "nest.Simulate(T)"
   ]
  },
  {
   "cell_type": "markdown",
   "metadata": {},
   "source": [
    "After the simulation, the recorded spikes are read out. We can extract the spike time and the neuron ID of the sending neuron from each event."
   ]
  },
  {
   "cell_type": "code",
   "execution_count": null,
   "metadata": {},
   "outputs": [],
   "source": [
    "spike_senders_L5E = nest.GetStatus(sd_L5E)[0]['events']['senders']\n",
    "spike_times_L5E = nest.GetStatus(sd_L5E)[0]['events']['times']\n",
    "spike_senders_L5I = nest.GetStatus(sd_L5I)[0]['events']['senders']\n",
    "spike_times_L5I = nest.GetStatus(sd_L5I)[0]['events']['times']\n",
    "\n",
    "# stack the data from the two populations\n",
    "spike_senders = np.hstack((spike_senders_L5E, spike_senders_L5I))\n",
    "spike_times = np.hstack((spike_times_L5E, spike_times_L5I))"
   ]
  },
  {
   "cell_type": "markdown",
   "metadata": {},
   "source": [
    "Finally, we create a raster plot to visualize the spiking activity of all neurons during the simulation ..."
   ]
  },
  {
   "cell_type": "code",
   "execution_count": null,
   "metadata": {},
   "outputs": [],
   "source": [
    "pylab.plot(spike_times, spike_senders, 'k.', markersize=1)\n",
    "pylab.xlim(0,T)\n",
    "pylab.ylim(pop_L5E[0].global_id, pop_L5I[-1].global_id)\n",
    "pylab.xlabel('time (ms)')\n",
    "pylab.ylabel('neuron ID')"
   ]
  },
  {
   "cell_type": "markdown",
   "metadata": {},
   "source": [
    "... and we compute the average firing rate for each population.\n",
    "\n",
    "Therefore, we read out the number of spikes registered by a spike detector during the simulation time. Pay attention to get the correct time units."
   ]
  },
  {
   "cell_type": "code",
   "execution_count": null,
   "metadata": {},
   "outputs": [],
   "source": [
    "rate_E = float(nest.GetStatus(sd_L5E)[0]['n_events']) / T * 1e3 / N_L5E\n",
    "print(\"\\nFiring rate E = %.1f spikes/s\" % (rate_E))\n",
    "\n",
    "rate_I = float(nest.GetStatus(sd_L5I)[0]['n_events']) / T * 1e3 / N_L5I\n",
    "print(\"\\nFiring rate I = %.1f spikes/s\" % (rate_I))"
   ]
  },
  {
   "cell_type": "markdown",
   "metadata": {},
   "source": [
    "Besides, NEST also provides built-in plotting tools for creating raster plots."
   ]
  },
  {
   "cell_type": "code",
   "execution_count": null,
   "metadata": {},
   "outputs": [],
   "source": [
    "nest.raster_plot.from_device(sd_L5E, hist=True)\n",
    "nest.raster_plot.from_device(sd_L5I, hist=True)"
   ]
  },
  {
   "cell_type": "code",
   "execution_count": null,
   "metadata": {},
   "outputs": [],
   "source": []
  }
 ],
 "metadata": {
  "kernelspec": {
   "display_name": "Python 3",
   "language": "python",
   "name": "python3"
  },
  "language_info": {
   "codemirror_mode": {
    "name": "ipython",
    "version": 3
   },
   "file_extension": ".py",
   "mimetype": "text/x-python",
   "name": "python",
   "nbconvert_exporter": "python",
   "pygments_lexer": "ipython3",
   "version": "3.6.9"
  }
 },
 "nbformat": 4,
 "nbformat_minor": 1
}
